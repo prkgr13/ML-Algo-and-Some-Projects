{
  "nbformat": 4,
  "nbformat_minor": 0,
  "metadata": {
    "colab": {
      "name": "twitter.ipynb",
      "provenance": [],
      "collapsed_sections": []
    },
    "kernelspec": {
      "name": "python3",
      "display_name": "Python 3"
    },
    "accelerator": "GPU"
  },
  "cells": [
    {
      "cell_type": "code",
      "metadata": {
        "id": "srVXjqKuEeUu",
        "colab_type": "code",
        "outputId": "24e0a24c-9166-4711-9c18-3beec1c77356",
        "colab": {
          "base_uri": "https://localhost:8080/",
          "height": 199
        }
      },
      "source": [
        "!pip install tweepy"
      ],
      "execution_count": 0,
      "outputs": [
        {
          "output_type": "stream",
          "text": [
            "Requirement already satisfied: tweepy in /usr/local/lib/python3.6/dist-packages (3.6.0)\n",
            "Requirement already satisfied: requests>=2.11.1 in /usr/local/lib/python3.6/dist-packages (from tweepy) (2.21.0)\n",
            "Requirement already satisfied: PySocks>=1.5.7 in /usr/local/lib/python3.6/dist-packages (from tweepy) (1.7.1)\n",
            "Requirement already satisfied: six>=1.10.0 in /usr/local/lib/python3.6/dist-packages (from tweepy) (1.12.0)\n",
            "Requirement already satisfied: requests-oauthlib>=0.7.0 in /usr/local/lib/python3.6/dist-packages (from tweepy) (1.2.0)\n",
            "Requirement already satisfied: certifi>=2017.4.17 in /usr/local/lib/python3.6/dist-packages (from requests>=2.11.1->tweepy) (2019.9.11)\n",
            "Requirement already satisfied: chardet<3.1.0,>=3.0.2 in /usr/local/lib/python3.6/dist-packages (from requests>=2.11.1->tweepy) (3.0.4)\n",
            "Requirement already satisfied: urllib3<1.25,>=1.21.1 in /usr/local/lib/python3.6/dist-packages (from requests>=2.11.1->tweepy) (1.24.3)\n",
            "Requirement already satisfied: idna<2.9,>=2.5 in /usr/local/lib/python3.6/dist-packages (from requests>=2.11.1->tweepy) (2.8)\n",
            "Requirement already satisfied: oauthlib>=3.0.0 in /usr/local/lib/python3.6/dist-packages (from requests-oauthlib>=0.7.0->tweepy) (3.1.0)\n"
          ],
          "name": "stdout"
        }
      ]
    },
    {
      "cell_type": "code",
      "metadata": {
        "id": "Y4ByDbYzFJwt",
        "colab_type": "code",
        "outputId": "6578c769-a556-43d1-a47e-6051d64623c7",
        "colab": {
          "base_uri": "https://localhost:8080/",
          "height": 72
        }
      },
      "source": [
        "!pip install textblob"
      ],
      "execution_count": 0,
      "outputs": [
        {
          "output_type": "stream",
          "text": [
            "Requirement already satisfied: textblob in /usr/local/lib/python3.6/dist-packages (0.15.3)\n",
            "Requirement already satisfied: nltk>=3.1 in /usr/local/lib/python3.6/dist-packages (from textblob) (3.2.5)\n",
            "Requirement already satisfied: six in /usr/local/lib/python3.6/dist-packages (from nltk>=3.1->textblob) (1.12.0)\n"
          ],
          "name": "stdout"
        }
      ]
    },
    {
      "cell_type": "code",
      "metadata": {
        "id": "M1_b-HDRFQeh",
        "colab_type": "code",
        "outputId": "bbfd1c6d-9e56-4fda-ba80-6a56226507cb",
        "colab": {
          "base_uri": "https://localhost:8080/",
          "height": 35
        }
      },
      "source": [
        "#example and import of textblob\n",
        "from textblob import TextBlob\n",
        "wiki = TextBlob(\"Life is very unfair\")\n",
        "wiki.sentiment.polarity"
      ],
      "execution_count": 0,
      "outputs": [
        {
          "output_type": "execute_result",
          "data": {
            "text/plain": [
              "-0.65"
            ]
          },
          "metadata": {
            "tags": []
          },
          "execution_count": 3
        }
      ]
    },
    {
      "cell_type": "code",
      "metadata": {
        "id": "5lL5ecQfGKP0",
        "colab_type": "code",
        "colab": {}
      },
      "source": [
        "import tweepy"
      ],
      "execution_count": 0,
      "outputs": []
    },
    {
      "cell_type": "code",
      "metadata": {
        "id": "TMALJOlIGNgB",
        "colab_type": "code",
        "colab": {}
      },
      "source": [
        "consumer_key = 'oJeUo5Wv3dOhgePdFQkotOLdd'\n",
        "consumer_secret = 'V6dCgyL1kwU6gackeG30s5CzrsAdBLAiFusI9sxlXciuIVB5ay'\n"
      ],
      "execution_count": 0,
      "outputs": []
    },
    {
      "cell_type": "code",
      "metadata": {
        "id": "TX6qTZ1BGph-",
        "colab_type": "code",
        "colab": {}
      },
      "source": [
        "access_token = '3166699218-JOprWlG78To8hCHC7IXvZRSrPwFQfKUJLMhpS0v'\n",
        "access_token_secret = 'DN0ydAIjA1WL2rSBf7YBu7FeuNkWpycMMj5pnVqRMlTH8'"
      ],
      "execution_count": 0,
      "outputs": []
    },
    {
      "cell_type": "code",
      "metadata": {
        "id": "hIJm72NGHLjv",
        "colab_type": "code",
        "colab": {}
      },
      "source": [
        "auth = tweepy.OAuthHandler(consumer_key, consumer_secret)\n",
        "auth.set_access_token(access_token, access_token_secret)"
      ],
      "execution_count": 0,
      "outputs": []
    },
    {
      "cell_type": "code",
      "metadata": {
        "id": "6EXqc9MPIaQw",
        "colab_type": "code",
        "colab": {}
      },
      "source": [
        "api = tweepy.API(auth)\n"
      ],
      "execution_count": 0,
      "outputs": []
    },
    {
      "cell_type": "code",
      "metadata": {
        "id": "UwZAP2-cImVC",
        "colab_type": "code",
        "outputId": "14a08d71-8278-4e8b-d8e5-30f860eb2d91",
        "colab": {
          "base_uri": "https://localhost:8080/",
          "height": 1000
        }
      },
      "source": [
        "public_tweets = api.search('Trump')\n",
        "for tweet in public_tweets:\n",
        "  print(tweet.text)\n",
        "  analysis = TextBlob(tweet.text)\n",
        "  print(analysis.sentiment)"
      ],
      "execution_count": 0,
      "outputs": [
        {
          "output_type": "stream",
          "text": [
            "RT @RyanAFournier: Obama should’ve been impeached for:\n",
            "\n",
            "Benghazi\n",
            "\n",
            "VA scandal\n",
            "\n",
            "IRS scandal\n",
            "\n",
            "Fast &amp; Furious \n",
            "\n",
            "Iran ransom\n",
            "\n",
            "Solyndra\n",
            "\n",
            "Wiretapp…\n",
            "Sentiment(polarity=0.2, subjectivity=0.6)\n",
            "RT @SaysDana: Mike Reynolds will be taking a new position in the Lower Colorado Basin region.  He’s been with the Park service for 34 years…\n",
            "Sentiment(polarity=0.13636363636363635, subjectivity=0.45454545454545453)\n",
            "RT @charliekirk11: Imagine if Brett Kavanaugh were confirmed in a secret, underground Capitol chamber\n",
            "\n",
            "Imagine if Neil Gorsuch were confirm…\n",
            "Sentiment(polarity=0.0, subjectivity=0.85)\n",
            "RT @joncoopertweets: The right-wing Daily Caller contacted all 53 Republican Senate offices this week to ask if senators would rule out vot…\n",
            "Sentiment(polarity=0.0, subjectivity=0.0)\n",
            "RT @VivirporBoca: ¿Critican la oratoria de Macri? ¿Ustedes escucharon al enano cara de taxista de Kicillof? Ayer en el cierre estuvo media…\n",
            "Sentiment(polarity=0.0, subjectivity=0.0)\n",
            "RT @bopinion: Of Wisconsin’s 72 counties, 23 switched from voting for Obama in 2012 to Trump in 2016 https://t.co/4E0xFLZwlF https://t.co/f…\n",
            "Sentiment(polarity=0.0, subjectivity=0.0)\n",
            "RT @RedTRaccoon: I can't believe people are throwing away their entire careers for Trump.\n",
            "\n",
            "He doesn't care about any of them, but they are…\n",
            "Sentiment(polarity=0.0, subjectivity=0.625)\n",
            "RT @olgaNYC1211: @RudyGiuliani @realDonaldTrump Hope justice will prevail for Giuliani, Firtash, Shokin, Kernes, Kislin, Fuchs,Parnas, Lyov…\n",
            "Sentiment(polarity=0.0, subjectivity=0.0)\n",
            "RT @TheTNHoller: \"This is all about failed casinos. He's owned by Putin because he's been laundering Russian $ for the last 20-30 years. Ta…\n",
            "Sentiment(polarity=-0.16666666666666666, subjectivity=0.12222222222222222)\n",
            "RT @allinwithchris: Watch the full interview here: https://t.co/SOTZZ2KnY9 https://t.co/UyDYbVEyi5\n",
            "Sentiment(polarity=0.35, subjectivity=0.55)\n",
            "RT @MaliGuller: Neymiş? Erdoğan önce Trump'ı, sonra Putin'i dize getirmiş; artık sınırımızda YPG olmayacakmış!\n",
            "1) YPG +30 km'de hala var.\n",
            "2…\n",
            "Sentiment(polarity=0.0, subjectivity=0.0)\n",
            "RT @WordswithSteph: #ArrestGaetz should be trending until this repeat offender is made accountable — behind bars. Trump Republicans are not…\n",
            "Sentiment(polarity=-0.4, subjectivity=0.7)\n",
            "RT @GarBear4Trump: T5058 Trump 2020\n",
            "@SecretAZ12\n",
            "@damnitjim9\n",
            "@TnNonlib\n",
            "@mcb0925\n",
            "@63Rockman\n",
            "@Caloparker\n",
            "@Richard21315583\n",
            "@KristaT02347874\n",
            "@Lo…\n",
            "Sentiment(polarity=0.0, subjectivity=0.0)\n",
            "RT @ananavarro: My God.\n",
            "\n",
            "Trump turned the talented guy once lauded as the “Republican Savior”, into a caricature of his former self. He hid…\n",
            "Sentiment(polarity=0.35, subjectivity=0.45)\n",
            "RT @jbendery: Steven Menashi, Trump's contentious court pick who was set to get his Senate Judiciary Cmte vote this morning, is bumped to n…\n",
            "Sentiment(polarity=0.0, subjectivity=0.0)\n"
          ],
          "name": "stdout"
        }
      ]
    }
  ]
}